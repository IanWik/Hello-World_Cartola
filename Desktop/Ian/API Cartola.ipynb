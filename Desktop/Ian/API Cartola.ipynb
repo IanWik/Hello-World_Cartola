{
 "cells": [
  {
   "cell_type": "markdown",
   "metadata": {},
   "source": [
    "# Este código tem como objetivo a tentativa da criação de campeonatos no fantasy game Cartola FC"
   ]
  },
  {
   "cell_type": "code",
   "execution_count": 2,
   "metadata": {},
   "outputs": [],
   "source": [
    "#Importando as bibliotecas necessárias\n",
    "import json\n",
    "import requests\n",
    "import re\n",
    "import numpy as np\n",
    "import pandas as pd\n",
    "import openpyxl"
   ]
  },
  {
   "cell_type": "markdown",
   "metadata": {},
   "source": [
    "# Extração e Limpeza dos dados da api do Cartola FC"
   ]
  },
  {
   "cell_type": "code",
   "execution_count": 3,
   "metadata": {},
   "outputs": [
    {
     "name": "stdout",
     "output_type": "stream",
     "text": [
      "Qual rodada você deseja buscar? 30\n",
      "Deseja colocar diretamente os ids dos times? Sim ou Não? Sim\n",
      "Quantos times? 32\n"
     ]
    }
   ],
   "source": [
    "#Selecionar a rodada que será analisada, qual a forma de busca e quantos times\n",
    "rodada = input(\"Qual rodada você deseja buscar? \")\n",
    "id_nome = input(\"Deseja colocar diretamente os ids dos times? Sim ou Não? \")\n",
    "n_times = input(\"Quantos times? \")"
   ]
  },
  {
   "cell_type": "code",
   "execution_count": 5,
   "metadata": {},
   "outputs": [],
   "source": [
    "#5082775;3253808;18726872;20594620;5737183;7880178;25293386;560070;7946153;18286660;25270804;26311943;24920869;44570930;26118034;2079745;1322672;386656;308589;993764;19560070;27836036;25488938;14111267;44784735;580912;1545128;1287359;15637218;44616210;44611579;8772457"
   ]
  },
  {
   "cell_type": "code",
   "execution_count": 12,
   "metadata": {},
   "outputs": [
    {
     "name": "stdout",
     "output_type": "stream",
     "text": [
      "Tem a lista de ids de algum app? Sim ou Não? Sim\n",
      "Cole a lista aqui (apenas os números): 5082775;3253808;18726872;20594620;5737183;7880178;25293386;560070;7946153;18286660;25270804;26311943;24920869;44570930;26118034;2079745;1322672;386656;308589;993764;19560070;27836036;25488938;14111267;44784735;580912;1545128;1287359;15637218;44616210;44611579;8772457\n"
     ]
    }
   ],
   "source": [
    "#Criando a lista de times participando do campeonato\n",
    "contagem = 0\n",
    "ids = []\n",
    "lista_times = []\n",
    "lista = input(\"Tem a lista de ids de algum app? Sim ou Não? \")\n",
    "if lista == \"Sim\":\n",
    "    lista_id = input(\"Cole a lista aqui (apenas os números): \")\n",
    "    lista_id = lista_id.split(\";\")\n",
    "    ids = lista_id\n",
    "else:\n",
    "    \n",
    "    if id_nome == \"Sim\":\n",
    "        while contagem < int(n_times):\n",
    "            contagem = contagem + 1\n",
    "            novo_id = input(\"Coloque o id: \")\n",
    "            ids.append(novo_id)\n",
    "    else:\n",
    "        while contagem < int(n_times):\n",
    "            contagem = contagem + 1\n",
    "            novo_time = input(\"Coloque o nome do time: \")\n",
    "            lista_times.append(novo_time)\n",
    "#Obs.: É necessário verificar se o nome leva diretamente ai time procurado, \n",
    "#caso tenha dificuldades é interessante colocar os ids diretamente"
   ]
  },
  {
   "cell_type": "code",
   "execution_count": 13,
   "metadata": {},
   "outputs": [
    {
     "name": "stdout",
     "output_type": "stream",
     "text": [
      "Prosseguir com extração das pontuações :)\n"
     ]
    }
   ],
   "source": [
    "#Caso a lista inserida seja dos nomes dos times é necessário extrair os ids da api\n",
    "if id_nome == \"Não\":\n",
    "    id_times = lista_times\n",
    "    a = 0\n",
    "#Importando e limpando os ids dos times listados acima\n",
    "    for x in lista_times:\n",
    "        id_times = requests.get(\"https://api.cartola.globo.com/times?q=\" + x)\n",
    "        id_times = id_times.content\n",
    "        id_times = str(id_times)\n",
    "        id_times = id_times.split(\",\")\n",
    "        id_times = id_times[7]\n",
    "        id_times = id_times.split(\":\")\n",
    "        id_times = id_times[1]\n",
    "        ids.append(id_times)\n",
    "        a = a + 1\n",
    "else:\n",
    "    print(\"Prosseguir com extração das pontuações :)\")"
   ]
  },
  {
   "cell_type": "code",
   "execution_count": 14,
   "metadata": {},
   "outputs": [
    {
     "name": "stdout",
     "output_type": "stream",
     "text": [
      "['5082775', '3253808', '18726872', '20594620', '5737183', '7880178', '25293386', '560070', '7946153', '18286660', '25270804', '26311943', '24920869', '44570930', '26118034', '2079745', '1322672', '386656', '308589', '993764', '19560070', '27836036', '25488938', '14111267', '44784735', '580912', '1545128', '1287359', '15637218', '44616210', '44611579', '8772457']\n"
     ]
    }
   ],
   "source": [
    "#Caso o time não tenha sido escalado no campeonato, o id será um valor aleatório\n",
    "print(ids)"
   ]
  },
  {
   "cell_type": "code",
   "execution_count": 15,
   "metadata": {},
   "outputs": [
    {
     "name": "stdout",
     "output_type": "stream",
     "text": [
      "Deseja verificar erro de algum time? Sim ou Não?\n",
      "Não\n",
      "Ok, seguir com a limpeza dos dados\n"
     ]
    }
   ],
   "source": [
    "#Caso haja algum problema de não retornar a pontuação do time é possível verificar os ids diretamente na api\n",
    "verificar = input(\"Deseja verificar erro de algum time? Sim ou Não?\\n\")\n",
    "if verificar == \"Sim\":\n",
    "    id_verificar = input(\"Qual o nome do time?\\n\")\n",
    "    print(\"\\n \\nDados do time importado:\\n\")\n",
    "    info_time = requests.get(\"https://api.cartola.globo.com/times?q=\" + id_verificar)\n",
    "    print(info_time.content)\n",
    "elif verificar == \"Não\":\n",
    "    print(\"Ok, seguir com a limpeza dos dados\")\n",
    "else:\n",
    "    print(\"Esta não é uma resposta válida\")"
   ]
  },
  {
   "cell_type": "markdown",
   "metadata": {},
   "source": [
    "### Caso você deseja trocar apenas a rodada, você pode pular direto pra cá alterando apenas a rodada e mantendo os valores dos times"
   ]
  },
  {
   "cell_type": "code",
   "execution_count": 1,
   "metadata": {
    "scrolled": true
   },
   "outputs": [
    {
     "ename": "NameError",
     "evalue": "name 'ids' is not defined",
     "output_type": "error",
     "traceback": [
      "\u001b[1;31m---------------------------------------------------------------------------\u001b[0m",
      "\u001b[1;31mNameError\u001b[0m                                 Traceback (most recent call last)",
      "\u001b[1;32m<ipython-input-1-28dd2a9d1db6>\u001b[0m in \u001b[0;36m<module>\u001b[1;34m\u001b[0m\n\u001b[0;32m      2\u001b[0m \u001b[0mtimes\u001b[0m \u001b[1;33m=\u001b[0m \u001b[1;34m\"\"\u001b[0m\u001b[1;33m\u001b[0m\u001b[1;33m\u001b[0m\u001b[0m\n\u001b[0;32m      3\u001b[0m \u001b[1;31m#Importando os dados do time na rodada selecionada e buscando a pontuação dele na rodada\u001b[0m\u001b[1;33m\u001b[0m\u001b[1;33m\u001b[0m\u001b[1;33m\u001b[0m\u001b[0m\n\u001b[1;32m----> 4\u001b[1;33m \u001b[1;32mfor\u001b[0m \u001b[0mi\u001b[0m \u001b[1;32min\u001b[0m \u001b[0mids\u001b[0m\u001b[1;33m:\u001b[0m\u001b[1;33m\u001b[0m\u001b[1;33m\u001b[0m\u001b[0m\n\u001b[0m\u001b[0;32m      5\u001b[0m     \u001b[0mtimes\u001b[0m \u001b[1;33m=\u001b[0m \u001b[0mrequests\u001b[0m\u001b[1;33m.\u001b[0m\u001b[0mget\u001b[0m\u001b[1;33m(\u001b[0m\u001b[1;34m\"https://api.cartola.globo.com/time/id/\"\u001b[0m \u001b[1;33m+\u001b[0m \u001b[0mi\u001b[0m \u001b[1;33m+\u001b[0m \u001b[1;34m\"/\"\u001b[0m \u001b[1;33m+\u001b[0m \u001b[0mrodada\u001b[0m\u001b[1;33m)\u001b[0m\u001b[1;33m\u001b[0m\u001b[1;33m\u001b[0m\u001b[0m\n\u001b[0;32m      6\u001b[0m     \u001b[0mtimes\u001b[0m \u001b[1;33m=\u001b[0m \u001b[0mtimes\u001b[0m\u001b[1;33m.\u001b[0m\u001b[0mcontent\u001b[0m\u001b[1;33m\u001b[0m\u001b[1;33m\u001b[0m\u001b[0m\n",
      "\u001b[1;31mNameError\u001b[0m: name 'ids' is not defined"
     ]
    }
   ],
   "source": [
    "pontos_rodada = []\n",
    "times = \"\"\n",
    "#Importando os dados do time na rodada selecionada e buscando a pontuação dele na rodada\n",
    "for i in ids:\n",
    "    times = requests.get(\"https://api.cartola.globo.com/time/id/\" + i + \"/\" + rodada)\n",
    "    times = times.content\n",
    "    times = str(times)\n",
    "    times = times.split(\",\")\n",
    "    times = times[-12]\n",
    "    times = times.split(\":\")\n",
    "    times = times[1]\n",
    "    pontos_rodada.append(times)\n",
    "    "
   ]
  },
  {
   "cell_type": "code",
   "execution_count": 17,
   "metadata": {},
   "outputs": [
    {
     "data": {
      "text/html": [
       "<div>\n",
       "<style scoped>\n",
       "    .dataframe tbody tr th:only-of-type {\n",
       "        vertical-align: middle;\n",
       "    }\n",
       "\n",
       "    .dataframe tbody tr th {\n",
       "        vertical-align: top;\n",
       "    }\n",
       "\n",
       "    .dataframe thead tr th {\n",
       "        text-align: left;\n",
       "    }\n",
       "</style>\n",
       "<table border=\"1\" class=\"dataframe\">\n",
       "  <thead>\n",
       "    <tr>\n",
       "      <th></th>\n",
       "      <th>5082775</th>\n",
       "      <th>3253808</th>\n",
       "      <th>18726872</th>\n",
       "      <th>20594620</th>\n",
       "      <th>5737183</th>\n",
       "      <th>7880178</th>\n",
       "      <th>25293386</th>\n",
       "      <th>560070</th>\n",
       "      <th>7946153</th>\n",
       "      <th>18286660</th>\n",
       "      <th>...</th>\n",
       "      <th>25488938</th>\n",
       "      <th>14111267</th>\n",
       "      <th>44784735</th>\n",
       "      <th>580912</th>\n",
       "      <th>1545128</th>\n",
       "      <th>1287359</th>\n",
       "      <th>15637218</th>\n",
       "      <th>44616210</th>\n",
       "      <th>44611579</th>\n",
       "      <th>8772457</th>\n",
       "    </tr>\n",
       "  </thead>\n",
       "  <tbody>\n",
       "    <tr>\n",
       "      <th>Rodada 30</th>\n",
       "      <td>68.819824</td>\n",
       "      <td>101.819824</td>\n",
       "      <td>81.02002</td>\n",
       "      <td>51.169922</td>\n",
       "      <td>27.150024</td>\n",
       "      <td>107.02002</td>\n",
       "      <td>0.0</td>\n",
       "      <td>47.149902</td>\n",
       "      <td>53.52002</td>\n",
       "      <td>88.319824</td>\n",
       "      <td>...</td>\n",
       "      <td>65.350098</td>\n",
       "      <td>70.47998</td>\n",
       "      <td>89.720215</td>\n",
       "      <td>93.620117</td>\n",
       "      <td>44.649902</td>\n",
       "      <td>94.319824</td>\n",
       "      <td>74.620117</td>\n",
       "      <td>53.850098</td>\n",
       "      <td>100.930176</td>\n",
       "      <td>35.22998</td>\n",
       "    </tr>\n",
       "  </tbody>\n",
       "</table>\n",
       "<p>1 rows × 32 columns</p>\n",
       "</div>"
      ],
      "text/plain": [
       "             5082775     3253808  18726872   20594620    5737183    7880178  \\\n",
       "Rodada 30  68.819824  101.819824  81.02002  51.169922  27.150024  107.02002   \n",
       "\n",
       "          25293386     560070   7946153   18286660  ...   25488938  14111267  \\\n",
       "Rodada 30      0.0  47.149902  53.52002  88.319824  ...  65.350098  70.47998   \n",
       "\n",
       "            44784735     580912    1545128    1287359   15637218   44616210  \\\n",
       "Rodada 30  89.720215  93.620117  44.649902  94.319824  74.620117  53.850098   \n",
       "\n",
       "             44611579   8772457  \n",
       "Rodada 30  100.930176  35.22998  \n",
       "\n",
       "[1 rows x 32 columns]"
      ]
     },
     "metadata": {},
     "output_type": "display_data"
    }
   ],
   "source": [
    "#Transformando em DataFrame\n",
    "pd_pontos_rodada = pd.DataFrame(pontos_rodada)\n",
    "pd_pontos_rodada = pd_pontos_rodada.T\n",
    "pd_pontos_rodada.columns = [ids]\n",
    "pd_pontos_rodada.index = [\"Rodada \" + rodada]\n",
    "pd_pontos_rodada = pd_pontos_rodada.replace(to_replace = 'null', value = '0')\n",
    "pd_pontos_rodada = pd_pontos_rodada.astype(float)\n",
    "\n",
    "display(pd_pontos_rodada)"
   ]
  },
  {
   "cell_type": "code",
   "execution_count": 10,
   "metadata": {},
   "outputs": [],
   "source": [
    "#Caso haja algum erro em relação às pontuações, verificar se o nome do time retorna corretamente os ids na linha anterior.\n",
    "#Se as informações não retornarem corretamente eu sugiro verificar se nome do time no próprio cartola não retorna\n",
    "#algum outro time. É possível tentar encontrar o time pelo nome do dono também"
   ]
  },
  {
   "cell_type": "markdown",
   "metadata": {},
   "source": [
    "# Integração com o Excel"
   ]
  },
  {
   "cell_type": "code",
   "execution_count": 11,
   "metadata": {},
   "outputs": [],
   "source": [
    "#Esse código foi criado com auxílio do vídeo \"https://www.youtube.com/watch?v=IT7zPluDADk&t=625s\""
   ]
  },
  {
   "cell_type": "code",
   "execution_count": 19,
   "metadata": {},
   "outputs": [
    {
     "name": "stdout",
     "output_type": "stream",
     "text": [
      "<class 'pandas.core.frame.DataFrame'>\n"
     ]
    }
   ],
   "source": [
    "#Importando a tabela que será utilizada\n",
    "#Recomendo o uso do openpyxl caso aconteça algum erro na importação\n",
    "path = \"C://Users//Família//Desktop//Ian//cartoliga30.xlsx\"\n",
    "cartoliga = pd.read_excel(path, engine='openpyxl')\n",
    "print(type(cartoliga))"
   ]
  },
  {
   "cell_type": "code",
   "execution_count": 20,
   "metadata": {},
   "outputs": [],
   "source": [
    "with pd.ExcelWriter(path, engine=\"openpyxl\", mode = \"r\") as writer:\n",
    "    pd_pontos_rodada.to_excel(writer, sheet_name= \"Rodada \" + rodada)"
   ]
  },
  {
   "cell_type": "code",
   "execution_count": null,
   "metadata": {},
   "outputs": [],
   "source": []
  },
  {
   "cell_type": "code",
   "execution_count": null,
   "metadata": {},
   "outputs": [],
   "source": []
  }
 ],
 "metadata": {
  "kernelspec": {
   "display_name": "Python 3",
   "language": "python",
   "name": "python3"
  },
  "language_info": {
   "codemirror_mode": {
    "name": "ipython",
    "version": 3
   },
   "file_extension": ".py",
   "mimetype": "text/x-python",
   "name": "python",
   "nbconvert_exporter": "python",
   "pygments_lexer": "ipython3",
   "version": "3.8.6"
  }
 },
 "nbformat": 4,
 "nbformat_minor": 4
}
